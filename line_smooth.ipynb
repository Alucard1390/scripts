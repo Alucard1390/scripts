{
 "cells": [
  {
   "cell_type": "code",
   "execution_count": 6,
   "id": "ab9e09e9",
   "metadata": {},
   "outputs": [],
   "source": [
    "import pyecharts.options as opts\n",
    "from pyecharts.charts import Line\n",
    "import pandas as pd\n",
    "import numpy as np\n",
    "import random"
   ]
  },
  {
   "cell_type": "code",
   "execution_count": 7,
   "id": "c21fc105",
   "metadata": {},
   "outputs": [],
   "source": [
    "def get_random_color():\n",
    "    return '#{:06x}'.format(random.randint(0, 0xFFFFFF))"
   ]
  },
  {
   "cell_type": "code",
   "execution_count": 2,
   "id": "1b81d22b",
   "metadata": {},
   "outputs": [],
   "source": [
    "df = pd.read_excel(\"D:/乐进/fiboo/fiboo_item_all.xlsx\")"
   ]
  },
  {
   "cell_type": "code",
   "execution_count": 3,
   "id": "b43580e9",
   "metadata": {},
   "outputs": [
    {
     "name": "stderr",
     "output_type": "stream",
     "text": [
      "C:\\Users\\Vincent\\AppData\\Local\\Temp\\ipykernel_27524\\563006082.py:1: FutureWarning: The provided callable <function sum at 0x0000020389649940> is currently using DataFrameGroupBy.sum. In a future version of pandas, the provided callable will be used directly. To keep current behavior pass the string \"sum\" instead.\n",
      "  df_pivot = pd.pivot_table(df,values='销售额',index='品类',columns='时间',aggfunc=[np.sum])\n"
     ]
    }
   ],
   "source": [
    "df_pivot = pd.pivot_table(df,values='销售额',index='品类',columns='时间',aggfunc=[np.sum])"
   ]
  },
  {
   "cell_type": "code",
   "execution_count": 9,
   "id": "5998d579",
   "metadata": {},
   "outputs": [
    {
     "data": {
      "text/plain": [
       "'d:\\\\scripts\\\\line_smooth.html'"
      ]
     },
     "execution_count": 9,
     "metadata": {},
     "output_type": "execute_result"
    }
   ],
   "source": [
    "line = Line()\n",
    "line.add_xaxis(xaxis_data=df_pivot['sum'].columns.to_list())\n",
    "for i in df_pivot['sum'].index.to_list():\n",
    "    line.add_yaxis(i,df_pivot['sum'].loc[i],is_smooth=True,color=get_random_color())\n",
    "line.set_global_opts(title_opts=opts.TitleOpts(title=\"Line-smooth\"))\n",
    "line.set_global_opts(legend_opts=opts.LegendOpts(selected_mode=\"multiple\",pos_bottom=\"0%\"))\n",
    "line.set_series_opts(label_opts=opts.LabelOpts(is_show = False))\n",
    "line.render(\"line_smooth.html\")"
   ]
  }
 ],
 "metadata": {
  "kernelspec": {
   "display_name": "base",
   "language": "python",
   "name": "python3"
  },
  "language_info": {
   "codemirror_mode": {
    "name": "ipython",
    "version": 3
   },
   "file_extension": ".py",
   "mimetype": "text/x-python",
   "name": "python",
   "nbconvert_exporter": "python",
   "pygments_lexer": "ipython3",
   "version": "3.12.7"
  }
 },
 "nbformat": 4,
 "nbformat_minor": 5
}
